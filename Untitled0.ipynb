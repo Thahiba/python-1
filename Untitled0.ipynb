{
  "nbformat": 4,
  "nbformat_minor": 0,
  "metadata": {
    "colab": {
      "name": "Untitled0.ipynb",
      "provenance": [],
      "authorship_tag": "ABX9TyPoj0XQfGdVrfVBJEA92pAc",
      "include_colab_link": true
    },
    "kernelspec": {
      "name": "python3",
      "display_name": "Python 3"
    }
  },
  "cells": [
    {
      "cell_type": "markdown",
      "metadata": {
        "id": "view-in-github",
        "colab_type": "text"
      },
      "source": [
        "<a href=\"https://colab.research.google.com/github/Thahiba/python-1/blob/master/Untitled0.ipynb\" target=\"_parent\"><img src=\"https://colab.research.google.com/assets/colab-badge.svg\" alt=\"Open In Colab\"/></a>"
      ]
    },
    {
      "cell_type": "code",
      "metadata": {
        "id": "UDQiPdkWZhyR",
        "colab_type": "code",
        "colab": {
          "base_uri": "https://localhost:8080/",
          "height": 35
        },
        "outputId": "08bfc4b8-0be4-4716-c13f-6927835d117c"
      },
      "source": [
        "list"
      ],
      "execution_count": 1,
      "outputs": [
        {
          "output_type": "execute_result",
          "data": {
            "text/plain": [
              "list"
            ]
          },
          "metadata": {
            "tags": []
          },
          "execution_count": 1
        }
      ]
    },
    {
      "cell_type": "code",
      "metadata": {
        "id": "8m3iZQyOCYj3",
        "colab_type": "code",
        "colab": {}
      },
      "source": [
        ""
      ],
      "execution_count": 1,
      "outputs": []
    },
    {
      "cell_type": "code",
      "metadata": {
        "id": "g7RrmQIKUZxi",
        "colab_type": "code",
        "colab": {}
      },
      "source": [
        "mylist=[4,5,6,7]\n",
        "number=input(\"enter any number\")\n",
        "try:\n",
        " number=int(number)\n",
        " for element in mylist:\n",
        "   if number!=element:\n",
        "     continue\n",
        "     print(\"not found\")\n",
        "   else:\n",
        "     print(\"found\")\n",
        "except:\n",
        " print(\"invalid input\")"
      ],
      "execution_count": null,
      "outputs": []
    }
  ]
}